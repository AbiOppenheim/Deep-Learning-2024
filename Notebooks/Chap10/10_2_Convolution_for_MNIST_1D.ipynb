{
  "nbformat": 4,
  "nbformat_minor": 0,
  "metadata": {
    "colab": {
      "provenance": [],
      "include_colab_link": true
    },
    "kernelspec": {
      "name": "python3",
      "display_name": "Python 3"
    },
    "language_info": {
      "name": "python"
    }
  },
  "cells": [
    {
      "cell_type": "markdown",
      "metadata": {
        "id": "view-in-github",
        "colab_type": "text"
      },
      "source": [
        "<a href=\"https://colab.research.google.com/github/AbiOppenheim/Deep-Learning-2024/blob/main/Notebooks/Chap10/10_2_Convolution_for_MNIST_1D.ipynb\" target=\"_parent\"><img src=\"https://colab.research.google.com/assets/colab-badge.svg\" alt=\"Open In Colab\"/></a>"
      ]
    },
    {
      "cell_type": "markdown",
      "source": [
        "# **Notebook 10.2: Convolution for MNIST-1D**\n",
        "\n",
        "This notebook investigates a 1D convolutional network for MNIST-1D as in figure 10.7 and 10.8a.\n",
        "\n",
        "Work through the cells below, running each cell in turn. In various places you will see the words \"TO DO\". Follow the instructions at these places and make predictions about what is going to happen or write code to complete the functions.\n",
        "\n",
        "Contact me at udlbookmail@gmail.com if you find any mistakes or have any suggestions.\n",
        "\n"
      ],
      "metadata": {
        "id": "t9vk9Elugvmi"
      }
    },
    {
      "cell_type": "code",
      "source": [
        "# Run this if you're in a Colab to install MNIST 1D repository\n",
        "!pip install git+https://github.com/greydanus/mnist1d"
      ],
      "metadata": {
        "id": "D5yLObtZCi9J",
        "outputId": "ee17da65-54b3-44da-ae18-a218d41f63e2",
        "colab": {
          "base_uri": "https://localhost:8080/"
        }
      },
      "execution_count": 1,
      "outputs": [
        {
          "output_type": "stream",
          "name": "stdout",
          "text": [
            "Collecting git+https://github.com/greydanus/mnist1d\n",
            "  Cloning https://github.com/greydanus/mnist1d to /tmp/pip-req-build-q29g_3kv\n",
            "  Running command git clone --filter=blob:none --quiet https://github.com/greydanus/mnist1d /tmp/pip-req-build-q29g_3kv\n",
            "  Resolved https://github.com/greydanus/mnist1d to commit fd50cfdf874fab4afc3fae6bdbfa2c6fb2184ee1\n",
            "  Installing build dependencies ... \u001b[?25l\u001b[?25hdone\n",
            "  Getting requirements to build wheel ... \u001b[?25l\u001b[?25hdone\n",
            "  Installing backend dependencies ... \u001b[?25l\u001b[?25hdone\n",
            "  Preparing metadata (pyproject.toml) ... \u001b[?25l\u001b[?25hdone\n",
            "Requirement already satisfied: requests in /usr/local/lib/python3.10/dist-packages (from mnist1d==0.0.2.post3) (2.31.0)\n",
            "Requirement already satisfied: numpy in /usr/local/lib/python3.10/dist-packages (from mnist1d==0.0.2.post3) (1.25.2)\n",
            "Requirement already satisfied: matplotlib in /usr/local/lib/python3.10/dist-packages (from mnist1d==0.0.2.post3) (3.7.1)\n",
            "Requirement already satisfied: scipy in /usr/local/lib/python3.10/dist-packages (from mnist1d==0.0.2.post3) (1.11.4)\n",
            "Requirement already satisfied: contourpy>=1.0.1 in /usr/local/lib/python3.10/dist-packages (from matplotlib->mnist1d==0.0.2.post3) (1.2.1)\n",
            "Requirement already satisfied: cycler>=0.10 in /usr/local/lib/python3.10/dist-packages (from matplotlib->mnist1d==0.0.2.post3) (0.12.1)\n",
            "Requirement already satisfied: fonttools>=4.22.0 in /usr/local/lib/python3.10/dist-packages (from matplotlib->mnist1d==0.0.2.post3) (4.51.0)\n",
            "Requirement already satisfied: kiwisolver>=1.0.1 in /usr/local/lib/python3.10/dist-packages (from matplotlib->mnist1d==0.0.2.post3) (1.4.5)\n",
            "Requirement already satisfied: packaging>=20.0 in /usr/local/lib/python3.10/dist-packages (from matplotlib->mnist1d==0.0.2.post3) (24.0)\n",
            "Requirement already satisfied: pillow>=6.2.0 in /usr/local/lib/python3.10/dist-packages (from matplotlib->mnist1d==0.0.2.post3) (9.4.0)\n",
            "Requirement already satisfied: pyparsing>=2.3.1 in /usr/local/lib/python3.10/dist-packages (from matplotlib->mnist1d==0.0.2.post3) (3.1.2)\n",
            "Requirement already satisfied: python-dateutil>=2.7 in /usr/local/lib/python3.10/dist-packages (from matplotlib->mnist1d==0.0.2.post3) (2.8.2)\n",
            "Requirement already satisfied: charset-normalizer<4,>=2 in /usr/local/lib/python3.10/dist-packages (from requests->mnist1d==0.0.2.post3) (3.3.2)\n",
            "Requirement already satisfied: idna<4,>=2.5 in /usr/local/lib/python3.10/dist-packages (from requests->mnist1d==0.0.2.post3) (3.7)\n",
            "Requirement already satisfied: urllib3<3,>=1.21.1 in /usr/local/lib/python3.10/dist-packages (from requests->mnist1d==0.0.2.post3) (2.0.7)\n",
            "Requirement already satisfied: certifi>=2017.4.17 in /usr/local/lib/python3.10/dist-packages (from requests->mnist1d==0.0.2.post3) (2024.2.2)\n",
            "Requirement already satisfied: six>=1.5 in /usr/local/lib/python3.10/dist-packages (from python-dateutil>=2.7->matplotlib->mnist1d==0.0.2.post3) (1.16.0)\n",
            "Building wheels for collected packages: mnist1d\n",
            "  Building wheel for mnist1d (pyproject.toml) ... \u001b[?25l\u001b[?25hdone\n",
            "  Created wheel for mnist1d: filename=mnist1d-0.0.2.post3-py3-none-any.whl size=14371 sha256=60c01e84abf4b9e94b9d720aeb81c3b85276cb065ec2c029817bc1e1e8253061\n",
            "  Stored in directory: /tmp/pip-ephem-wheel-cache-5gadf08e/wheels/41/95/55/45fcf7d38cfa97e35682da6c5017d4513729131326ce935371\n",
            "Successfully built mnist1d\n",
            "Installing collected packages: mnist1d\n",
            "Successfully installed mnist1d-0.0.2.post3\n"
          ]
        }
      ]
    },
    {
      "cell_type": "code",
      "source": [
        "import numpy as np\n",
        "import os\n",
        "import torch, torch.nn as nn\n",
        "from torch.utils.data import TensorDataset, DataLoader\n",
        "from torch.optim.lr_scheduler import StepLR\n",
        "import matplotlib.pyplot as plt\n",
        "import mnist1d\n",
        "import random"
      ],
      "metadata": {
        "id": "YrXWAH7sUWvU"
      },
      "execution_count": 2,
      "outputs": []
    },
    {
      "cell_type": "code",
      "source": [
        "args = mnist1d.data.get_dataset_args()\n",
        "data = mnist1d.data.get_dataset(args, path='./mnist1d_data.pkl', download=False, regenerate=False)\n",
        "\n",
        "# The training and test input and outputs are in\n",
        "# data['x'], data['y'], data['x_test'], and data['y_test']\n",
        "print(\"Examples in training set: {}\".format(len(data['y'])))\n",
        "print(\"Examples in test set: {}\".format(len(data['y_test'])))\n",
        "print(\"Length of each example: {}\".format(data['x'].shape[-1]))"
      ],
      "metadata": {
        "id": "twI72ZCrCt5z",
        "outputId": "8134b476-9c1f-49ab-8f4e-99bb84500b9b",
        "colab": {
          "base_uri": "https://localhost:8080/"
        }
      },
      "execution_count": 3,
      "outputs": [
        {
          "output_type": "stream",
          "name": "stdout",
          "text": [
            "Did or could not load data from ./mnist1d_data.pkl. Rebuilding dataset...\n",
            "Examples in training set: 4000\n",
            "Examples in test set: 1000\n",
            "Length of each example: 40\n"
          ]
        }
      ]
    },
    {
      "cell_type": "code",
      "source": [
        "# Load in the data\n",
        "train_data_x = data['x'].transpose()\n",
        "train_data_y = data['y']\n",
        "val_data_x = data['x_test'].transpose()\n",
        "val_data_y = data['y_test']\n",
        "# Print out sizes\n",
        "print(\"Train data: %d examples (columns), each of which has %d dimensions (rows)\"%((train_data_x.shape[1],train_data_x.shape[0])))\n",
        "print(\"Validation data: %d examples (columns), each of which has %d dimensions (rows)\"%((val_data_x.shape[1],val_data_x.shape[0])))"
      ],
      "metadata": {
        "id": "8bKADvLHbiV5",
        "outputId": "c16a4c6e-1952-4567-ee0b-95a966f6de4c",
        "colab": {
          "base_uri": "https://localhost:8080/"
        }
      },
      "execution_count": 4,
      "outputs": [
        {
          "output_type": "stream",
          "name": "stdout",
          "text": [
            "Train data: 4000 examples (columns), each of which has 40 dimensions (rows)\n",
            "Validation data: 1000 examples (columns), each of which has 40 dimensions (rows)\n"
          ]
        }
      ]
    },
    {
      "cell_type": "markdown",
      "source": [
        "Define the network"
      ],
      "metadata": {
        "id": "_sFvRDGrl4qe"
      }
    },
    {
      "cell_type": "code",
      "source": [
        "# There are 40 input dimensions and 10 output dimensions for this data\n",
        "# The inputs correspond to the 40 offsets in the MNIST1D template.\n",
        "D_i = 40\n",
        "# The outputs correspond to the 10 digits\n",
        "D_o = 10\n",
        "\n",
        "\n",
        "# TODO Create a model with the following layers\n",
        "# 1. Convolutional layer, (input=length 40 and 1 channel, kernel size 3, stride 2, padding=\"valid\", 15 output channels )\n",
        "# 2. ReLU\n",
        "# 3. Convolutional layer, (input=length 19 and 15 channels, kernel size 3, stride 2, padding=\"valid\", 15 output channels )\n",
        "# 4. ReLU\n",
        "# 5. Convolutional layer, (input=length 9 and 15 channels, kernel size 3, stride 2, padding=\"valid\", 15 output channels)\n",
        "# 6. ReLU\n",
        "# 7. Flatten (converts 4x15) to length 60\n",
        "# 8. Linear layer (input size = 60, output size = 10)\n",
        "# References:\n",
        "# https://pytorch.org/docs/1.13/generated/torch.nn.Conv1d.html?highlight=conv1d#torch.nn.Conv1d\n",
        "# https://pytorch.org/docs/stable/generated/torch.nn.Flatten.html\n",
        "# https://pytorch.org/docs/1.13/generated/torch.nn.Linear.html?highlight=linear#torch.nn.Linear\n",
        "\n",
        "# NOTE THAT THE CONVOLUTIONAL LAYERS NEED TO TAKE THE NUMBER OF INPUT CHANNELS AS A PARAMETER\n",
        "# AND NOT THE INPUT SIZE.\n",
        "\n",
        "# Replace the following function:\n",
        "# model = nn.Sequential(\n",
        "# nn.Flatten(),\n",
        "# nn.Linear(40, 100),\n",
        "# nn.ReLU(),\n",
        "# nn.Linear(100, 100),\n",
        "# nn.ReLU(),\n",
        "# nn.Linear(100, 10)\n",
        "# )\n",
        "\n",
        "import torch.nn as nn\n",
        "\n",
        "class CustomModel(nn.Module):\n",
        "    def __init__(self):\n",
        "        super(CustomModel, self).__init__()\n",
        "        self.conv1 = nn.Conv1d(in_channels=1, out_channels=15, kernel_size=3, stride=2, padding=0)\n",
        "        self.conv2 = nn.Conv1d(in_channels=15, out_channels=15, kernel_size=3, stride=2, padding=0)\n",
        "        self.conv3 = nn.Conv1d(in_channels=15, out_channels=15, kernel_size=3, stride=2, padding=0)\n",
        "        self.relu = nn.ReLU()\n",
        "        self.flatten = nn.Flatten()\n",
        "        self.fc = nn.Linear(60, 10)\n",
        "\n",
        "    def forward(self, x):\n",
        "        x = self.relu(self.conv1(x))\n",
        "        x = self.relu(self.conv2(x))\n",
        "        x = self.relu(self.conv3(x))\n",
        "        x = self.flatten(x)\n",
        "        x = self.fc(x)\n",
        "        return x\n",
        "\n",
        "# Create an instance of the model\n",
        "model = CustomModel()\n",
        "\n",
        "\n",
        "\n"
      ],
      "metadata": {
        "id": "FslroPJJffrh"
      },
      "execution_count": 9,
      "outputs": []
    },
    {
      "cell_type": "code",
      "source": [
        "# He initialization of weights\n",
        "def weights_init(layer_in):\n",
        "  if isinstance(layer_in, nn.Linear):\n",
        "    nn.init.kaiming_uniform_(layer_in.weight)\n",
        "    layer_in.bias.data.fill_(0.0)"
      ],
      "metadata": {
        "id": "YgLaex1pfhqz"
      },
      "execution_count": 10,
      "outputs": []
    },
    {
      "cell_type": "code",
      "source": [
        "# choose cross entropy loss function (equation 5.24 in the loss notes)\n",
        "loss_function = nn.CrossEntropyLoss()\n",
        "# construct SGD optimizer and initialize learning rate and momentum\n",
        "optimizer = torch.optim.SGD(model.parameters(), lr = 0.05, momentum=0.9)\n",
        "# object that decreases learning rate by half every 20 epochs\n",
        "scheduler = StepLR(optimizer, step_size=20, gamma=0.5)\n",
        "# create 100 dummy data points and store in data loader class\n",
        "x_train = torch.tensor(train_data_x.transpose().astype('float32'))\n",
        "y_train = torch.tensor(train_data_y.astype('long')).long()\n",
        "x_val= torch.tensor(val_data_x.transpose().astype('float32'))\n",
        "y_val = torch.tensor(val_data_y.astype('long')).long()\n",
        "\n",
        "# load the data into a class that creates the batches\n",
        "data_loader = DataLoader(TensorDataset(x_train,y_train), batch_size=100, shuffle=True, worker_init_fn=np.random.seed(1))\n",
        "\n",
        "# Initialize model weights\n",
        "model.apply(weights_init)\n",
        "\n",
        "# loop over the dataset n_epoch times\n",
        "n_epoch = 100\n",
        "# store the loss and the % correct at each epoch\n",
        "losses_train = np.zeros((n_epoch))\n",
        "errors_train = np.zeros((n_epoch))\n",
        "losses_val = np.zeros((n_epoch))\n",
        "errors_val = np.zeros((n_epoch))\n",
        "\n",
        "for epoch in range(n_epoch):\n",
        "  # loop over batches\n",
        "  for i, data in enumerate(data_loader):\n",
        "    # retrieve inputs and labels for this batch\n",
        "    x_batch, y_batch = data\n",
        "    # zero the parameter gradients\n",
        "    optimizer.zero_grad()\n",
        "    # forward pass -- calculate model output\n",
        "    pred = model(x_batch[:,None,:])\n",
        "    # compute the loss\n",
        "    loss = loss_function(pred, y_batch)\n",
        "    # backward pass\n",
        "    loss.backward()\n",
        "    # SGD update\n",
        "    optimizer.step()\n",
        "\n",
        "  # Run whole dataset to get statistics -- normally wouldn't do this\n",
        "  pred_train = model(x_train[:,None,:])\n",
        "  pred_val = model(x_val[:,None,:])\n",
        "  _, predicted_train_class = torch.max(pred_train.data, 1)\n",
        "  _, predicted_val_class = torch.max(pred_val.data, 1)\n",
        "  errors_train[epoch] = 100 - 100 * (predicted_train_class == y_train).float().sum() / len(y_train)\n",
        "  errors_val[epoch]= 100 - 100 * (predicted_val_class == y_val).float().sum() / len(y_val)\n",
        "  losses_train[epoch] = loss_function(pred_train, y_train).item()\n",
        "  losses_val[epoch]= loss_function(pred_val, y_val).item()\n",
        "  print(f'Epoch {epoch:5d}, train loss {losses_train[epoch]:.6f}, train error {errors_train[epoch]:3.2f},  val loss {losses_val[epoch]:.6f}, percent error {errors_val[epoch]:3.2f}')\n",
        "\n",
        "  # tell scheduler to consider updating learning rate\n",
        "  scheduler.step()\n",
        "\n",
        "# Plot the results\n",
        "fig, ax = plt.subplots()\n",
        "ax.plot(errors_train,'r-',label='train')\n",
        "ax.plot(errors_val,'b-',label='validation')\n",
        "ax.set_ylim(0,100); ax.set_xlim(0,n_epoch)\n",
        "ax.set_xlabel('Epoch'); ax.set_ylabel('Error')\n",
        "ax.set_title('Part I: Validation Result %3.2f'%(errors_val[-1]))\n",
        "ax.legend()\n",
        "plt.show()"
      ],
      "metadata": {
        "id": "NYw8I_3mmX5c",
        "outputId": "108cd1ef-1376-4d15-c834-5fb475a80ab1",
        "colab": {
          "base_uri": "https://localhost:8080/",
          "height": 1000
        }
      },
      "execution_count": 11,
      "outputs": [
        {
          "output_type": "stream",
          "name": "stdout",
          "text": [
            "Epoch     0, train loss 2.174197, train error 80.45,  val loss 2.182667, percent error 82.40\n",
            "Epoch     1, train loss 1.674255, train error 66.22,  val loss 1.694664, percent error 69.80\n",
            "Epoch     2, train loss 1.432653, train error 56.25,  val loss 1.449372, percent error 59.30\n",
            "Epoch     3, train loss 1.270249, train error 51.72,  val loss 1.290849, percent error 53.20\n",
            "Epoch     4, train loss 1.200715, train error 49.25,  val loss 1.232941, percent error 52.20\n",
            "Epoch     5, train loss 1.195932, train error 48.38,  val loss 1.208565, percent error 49.20\n",
            "Epoch     6, train loss 1.104127, train error 43.28,  val loss 1.133245, percent error 45.40\n",
            "Epoch     7, train loss 0.979282, train error 40.62,  val loss 1.003816, percent error 41.20\n",
            "Epoch     8, train loss 0.873154, train error 33.97,  val loss 0.907021, percent error 37.30\n",
            "Epoch     9, train loss 0.797157, train error 32.30,  val loss 0.858191, percent error 36.00\n",
            "Epoch    10, train loss 0.726406, train error 26.85,  val loss 0.798455, percent error 31.00\n",
            "Epoch    11, train loss 0.656498, train error 25.57,  val loss 0.752599, percent error 30.60\n",
            "Epoch    12, train loss 0.604217, train error 23.57,  val loss 0.694886, percent error 25.90\n",
            "Epoch    13, train loss 0.549354, train error 21.28,  val loss 0.643422, percent error 23.70\n",
            "Epoch    14, train loss 0.480489, train error 18.60,  val loss 0.561262, percent error 21.10\n",
            "Epoch    15, train loss 0.467485, train error 17.10,  val loss 0.567128, percent error 20.70\n",
            "Epoch    16, train loss 0.508606, train error 19.43,  val loss 0.591790, percent error 20.80\n",
            "Epoch    17, train loss 0.353957, train error 12.07,  val loss 0.428402, percent error 15.10\n",
            "Epoch    18, train loss 0.381849, train error 13.93,  val loss 0.486561, percent error 15.90\n",
            "Epoch    19, train loss 0.296112, train error 9.95,  val loss 0.372082, percent error 11.50\n",
            "Epoch    20, train loss 0.232523, train error 8.03,  val loss 0.343025, percent error 11.60\n",
            "Epoch    21, train loss 0.223478, train error 7.78,  val loss 0.312502, percent error 10.00\n",
            "Epoch    22, train loss 0.197073, train error 6.43,  val loss 0.324414, percent error 10.80\n",
            "Epoch    23, train loss 0.195882, train error 6.62,  val loss 0.317039, percent error 10.00\n",
            "Epoch    24, train loss 0.194794, train error 6.72,  val loss 0.318150, percent error 9.90\n",
            "Epoch    25, train loss 0.186316, train error 6.35,  val loss 0.319959, percent error 9.90\n",
            "Epoch    26, train loss 0.158198, train error 5.50,  val loss 0.306037, percent error 10.00\n",
            "Epoch    27, train loss 0.214433, train error 7.93,  val loss 0.396420, percent error 11.90\n",
            "Epoch    28, train loss 0.143321, train error 4.50,  val loss 0.300894, percent error 9.90\n",
            "Epoch    29, train loss 0.147152, train error 5.20,  val loss 0.295733, percent error 9.30\n",
            "Epoch    30, train loss 0.124607, train error 4.28,  val loss 0.271943, percent error 8.20\n",
            "Epoch    31, train loss 0.116494, train error 3.30,  val loss 0.274616, percent error 9.10\n",
            "Epoch    32, train loss 0.111675, train error 3.32,  val loss 0.280562, percent error 8.80\n",
            "Epoch    33, train loss 0.134827, train error 4.75,  val loss 0.324079, percent error 9.50\n",
            "Epoch    34, train loss 0.150472, train error 5.28,  val loss 0.330726, percent error 9.80\n",
            "Epoch    35, train loss 0.116887, train error 3.85,  val loss 0.311331, percent error 10.10\n",
            "Epoch    36, train loss 0.084023, train error 2.43,  val loss 0.265038, percent error 8.50\n",
            "Epoch    37, train loss 0.089804, train error 2.80,  val loss 0.297364, percent error 9.70\n",
            "Epoch    38, train loss 0.089601, train error 2.55,  val loss 0.297349, percent error 9.40\n",
            "Epoch    39, train loss 0.089121, train error 2.72,  val loss 0.295312, percent error 9.00\n",
            "Epoch    40, train loss 0.071496, train error 1.85,  val loss 0.266174, percent error 8.50\n",
            "Epoch    41, train loss 0.065713, train error 1.80,  val loss 0.269331, percent error 8.10\n",
            "Epoch    42, train loss 0.064135, train error 1.80,  val loss 0.266136, percent error 8.10\n",
            "Epoch    43, train loss 0.071907, train error 2.32,  val loss 0.271415, percent error 8.80\n",
            "Epoch    44, train loss 0.061515, train error 1.78,  val loss 0.270542, percent error 8.10\n",
            "Epoch    45, train loss 0.062331, train error 1.72,  val loss 0.266918, percent error 8.10\n",
            "Epoch    46, train loss 0.060573, train error 1.62,  val loss 0.287646, percent error 8.90\n",
            "Epoch    47, train loss 0.056368, train error 1.60,  val loss 0.283684, percent error 8.30\n",
            "Epoch    48, train loss 0.053720, train error 1.47,  val loss 0.278714, percent error 8.50\n",
            "Epoch    49, train loss 0.053935, train error 1.22,  val loss 0.280761, percent error 8.60\n",
            "Epoch    50, train loss 0.053407, train error 1.38,  val loss 0.280357, percent error 7.90\n",
            "Epoch    51, train loss 0.056306, train error 1.72,  val loss 0.273267, percent error 8.10\n",
            "Epoch    52, train loss 0.052582, train error 1.32,  val loss 0.286107, percent error 8.40\n",
            "Epoch    53, train loss 0.062199, train error 1.90,  val loss 0.311426, percent error 8.60\n",
            "Epoch    54, train loss 0.049962, train error 1.28,  val loss 0.298221, percent error 7.90\n",
            "Epoch    55, train loss 0.044062, train error 0.82,  val loss 0.286934, percent error 8.40\n",
            "Epoch    56, train loss 0.048568, train error 1.15,  val loss 0.317087, percent error 7.70\n",
            "Epoch    57, train loss 0.046053, train error 0.95,  val loss 0.293415, percent error 8.00\n",
            "Epoch    58, train loss 0.043621, train error 1.00,  val loss 0.290685, percent error 7.70\n",
            "Epoch    59, train loss 0.040230, train error 0.70,  val loss 0.303539, percent error 8.10\n",
            "Epoch    60, train loss 0.039344, train error 0.72,  val loss 0.298400, percent error 8.10\n",
            "Epoch    61, train loss 0.039031, train error 0.68,  val loss 0.302513, percent error 8.20\n",
            "Epoch    62, train loss 0.037202, train error 0.68,  val loss 0.295012, percent error 8.20\n",
            "Epoch    63, train loss 0.037874, train error 0.70,  val loss 0.299264, percent error 7.80\n",
            "Epoch    64, train loss 0.036886, train error 0.65,  val loss 0.301307, percent error 7.80\n",
            "Epoch    65, train loss 0.035951, train error 0.62,  val loss 0.297835, percent error 7.70\n",
            "Epoch    66, train loss 0.036083, train error 0.60,  val loss 0.301311, percent error 7.80\n",
            "Epoch    67, train loss 0.036396, train error 0.50,  val loss 0.294253, percent error 8.00\n",
            "Epoch    68, train loss 0.035183, train error 0.68,  val loss 0.310261, percent error 8.20\n",
            "Epoch    69, train loss 0.034399, train error 0.53,  val loss 0.305812, percent error 8.00\n",
            "Epoch    70, train loss 0.035333, train error 0.55,  val loss 0.303460, percent error 7.80\n",
            "Epoch    71, train loss 0.035918, train error 0.60,  val loss 0.308887, percent error 7.90\n",
            "Epoch    72, train loss 0.033467, train error 0.43,  val loss 0.309953, percent error 8.10\n",
            "Epoch    73, train loss 0.034240, train error 0.72,  val loss 0.311056, percent error 7.90\n",
            "Epoch    74, train loss 0.032607, train error 0.47,  val loss 0.308648, percent error 8.00\n",
            "Epoch    75, train loss 0.032193, train error 0.50,  val loss 0.304234, percent error 7.80\n",
            "Epoch    76, train loss 0.032929, train error 0.50,  val loss 0.310995, percent error 8.00\n",
            "Epoch    77, train loss 0.031629, train error 0.43,  val loss 0.315062, percent error 8.00\n",
            "Epoch    78, train loss 0.031521, train error 0.43,  val loss 0.306633, percent error 8.00\n",
            "Epoch    79, train loss 0.030731, train error 0.43,  val loss 0.311007, percent error 7.80\n",
            "Epoch    80, train loss 0.029902, train error 0.35,  val loss 0.312447, percent error 7.80\n",
            "Epoch    81, train loss 0.030201, train error 0.35,  val loss 0.314796, percent error 8.20\n",
            "Epoch    82, train loss 0.029523, train error 0.43,  val loss 0.311561, percent error 7.90\n",
            "Epoch    83, train loss 0.029411, train error 0.40,  val loss 0.314556, percent error 8.00\n",
            "Epoch    84, train loss 0.029490, train error 0.43,  val loss 0.313211, percent error 8.00\n",
            "Epoch    85, train loss 0.029303, train error 0.43,  val loss 0.315654, percent error 7.80\n",
            "Epoch    86, train loss 0.028969, train error 0.38,  val loss 0.315811, percent error 7.90\n",
            "Epoch    87, train loss 0.028683, train error 0.38,  val loss 0.315205, percent error 7.90\n",
            "Epoch    88, train loss 0.028821, train error 0.35,  val loss 0.317012, percent error 8.00\n",
            "Epoch    89, train loss 0.028435, train error 0.38,  val loss 0.312964, percent error 7.80\n",
            "Epoch    90, train loss 0.028367, train error 0.30,  val loss 0.316293, percent error 7.60\n",
            "Epoch    91, train loss 0.028132, train error 0.32,  val loss 0.317299, percent error 7.80\n",
            "Epoch    92, train loss 0.028377, train error 0.43,  val loss 0.319086, percent error 7.90\n",
            "Epoch    93, train loss 0.027809, train error 0.35,  val loss 0.319135, percent error 7.90\n",
            "Epoch    94, train loss 0.027589, train error 0.35,  val loss 0.316223, percent error 7.80\n",
            "Epoch    95, train loss 0.027601, train error 0.38,  val loss 0.315710, percent error 7.70\n",
            "Epoch    96, train loss 0.027392, train error 0.38,  val loss 0.320316, percent error 7.70\n",
            "Epoch    97, train loss 0.027141, train error 0.35,  val loss 0.319135, percent error 7.90\n",
            "Epoch    98, train loss 0.027693, train error 0.38,  val loss 0.322034, percent error 8.00\n",
            "Epoch    99, train loss 0.027738, train error 0.40,  val loss 0.319844, percent error 8.10\n"
          ]
        },
        {
          "output_type": "display_data",
          "data": {
            "text/plain": [
              "<Figure size 640x480 with 1 Axes>"
            ],
            "image/png": "[encoded data removed]"
          },
          "metadata": {}
        }
      ]
    },
    {
      "cell_type": "code",
      "source": [],
      "metadata": {
        "id": "JYUmqgXs2ZFY"
      },
      "execution_count": null,
      "outputs": []
    }
  ]
}